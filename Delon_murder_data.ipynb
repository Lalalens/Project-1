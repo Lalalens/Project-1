{
 "cells": [
  {
   "cell_type": "code",
   "execution_count": 1,
   "id": "0c23e572",
   "metadata": {},
   "outputs": [],
   "source": [
    "import pandas as pd\n",
    "import matplotlib.pyplot as plt\n",
    "import numpy as np\n",
    "import scipy.stats as st\n",
    "from pathlib import Path\n",
    "\n",
    "#study data files paths\n",
    "mass_killing_incidents_path = Path(\"Resources/mass_killing_incidents_public.csv\")\n",
    "mass_offenders_path = Path(\"Resources/mass_killing_offenders_public.csv\")\n",
    "mass_killing_weapons_path = Path(\"Resources/mass_killing_weapons_public.csv\")\n",
    "shooting_1982_2023_path = Path(\"Resources/shooting_1982-2023_cleaned.csv\")\n",
    "\n",
    "#to read csv files\n",
    "mass_killing_incidents = pd.read_csv(mass_killing_incidents_path)\n",
    "mass_offenders = pd.read_csv(mass_offenders_path)\n",
    "mass_killing_weapons = pd.read_csv(mass_killing_weapons_path)\n",
    "shooting_1982_2023 = pd.read_csv(shooting_1982_2023_path)\n",
    "\n",
    "#combining data to form dataframe\n",
    "mass_killings_df = pd.merge(mass_offenders, mass_killing_incidents, how=\"outer\", on=[\"incident_id\", \"incident_id\"])\n"
   ]
  },
  {
   "cell_type": "code",
   "execution_count": null,
   "id": "1bbf2bf7",
   "metadata": {},
   "outputs": [],
   "source": []
  }
 ],
 "metadata": {
  "kernelspec": {
   "display_name": "Python 3 (ipykernel)",
   "language": "python",
   "name": "python3"
  },
  "language_info": {
   "codemirror_mode": {
    "name": "ipython",
    "version": 3
   },
   "file_extension": ".py",
   "mimetype": "text/x-python",
   "name": "python",
   "nbconvert_exporter": "python",
   "pygments_lexer": "ipython3",
   "version": "3.10.10"
  }
 },
 "nbformat": 4,
 "nbformat_minor": 5
}
